{
 "cells": [
  {
   "cell_type": "code",
   "execution_count": 24,
   "id": "suitable-example",
   "metadata": {},
   "outputs": [
    {
     "name": "stdout",
     "output_type": "stream",
     "text": [
      "Overwriting tryspacy.py\n"
     ]
    }
   ],
   "source": [
    "%%writefile tryspacy.py\n",
    "import streamlit as st \n",
    "\n",
    "import spacy\n",
    "import spacy_streamlit\n",
    "nlp = spacy.blank('en')\n",
    "\n",
    "import os\n",
    "from PIL import Image\n",
    "\n",
    "st.title(\"Spacy-Streamlit NLP App\")\n",
    "\n",
    "menu = ['Home', 'NER']\n",
    "choice = st.sidebar.selectbox(\"Menu\", menu)\n",
    "\n",
    "if choice == \"Home\":\n",
    "    st.subheader(\"Tokenization\")\n",
    "    raw_text = st.text_area(\"Your Text\", \"Enter Text Here\")\n",
    "    docx = nlp(raw_text)\n",
    "    if st.button(\"Tokenize\"):\n",
    "        spacy_streamlit.visualize_tokens(docx, attrs=['text'])\n",
    "\n",
    "elif choice == \"NER\":\n",
    "    st.subheader(\"Named Entity Recognition\")\n",
    "    raw_text = st.text_area(\"Your Text\", \"Enter Text Here\")\n",
    "    docx = nlp(raw_text)\n",
    "    \n",
    "    spacy_streamlit.visualize_ner(docx, labels=nlp.get_pipe('ner').labels)\n",
    "                    \n"
   ]
  },
  {
   "cell_type": "code",
   "execution_count": null,
   "id": "loaded-metabolism",
   "metadata": {},
   "outputs": [],
   "source": [
    "\n"
   ]
  }
 ],
 "metadata": {
  "kernelspec": {
   "display_name": "Python 3",
   "language": "python",
   "name": "python3"
  },
  "language_info": {
   "codemirror_mode": {
    "name": "ipython",
    "version": 3
   },
   "file_extension": ".py",
   "mimetype": "text/x-python",
   "name": "python",
   "nbconvert_exporter": "python",
   "pygments_lexer": "ipython3",
   "version": "3.8.5"
  },
  "latex_envs": {
   "LaTeX_envs_menu_present": true,
   "autoclose": false,
   "autocomplete": true,
   "bibliofile": "biblio.bib",
   "cite_by": "apalike",
   "current_citInitial": 1,
   "eqLabelWithNumbers": true,
   "eqNumInitial": 1,
   "hotkeys": {
    "equation": "Ctrl-E",
    "itemize": "Ctrl-I"
   },
   "labels_anchors": false,
   "latex_user_defs": false,
   "report_style_numbering": false,
   "user_envs_cfg": false
  },
  "nbTranslate": {
   "displayLangs": [
    "*"
   ],
   "hotkey": "alt-t",
   "langInMainMenu": true,
   "sourceLang": "en",
   "targetLang": "fr",
   "useGoogleTranslate": true
  },
  "toc": {
   "base_numbering": 1,
   "nav_menu": {},
   "number_sections": true,
   "sideBar": true,
   "skip_h1_title": false,
   "title_cell": "Table of Contents",
   "title_sidebar": "Contents",
   "toc_cell": false,
   "toc_position": {},
   "toc_section_display": true,
   "toc_window_display": false
  },
  "varInspector": {
   "cols": {
    "lenName": 16,
    "lenType": 16,
    "lenVar": 40
   },
   "kernels_config": {
    "python": {
     "delete_cmd_postfix": "",
     "delete_cmd_prefix": "del ",
     "library": "var_list.py",
     "varRefreshCmd": "print(var_dic_list())"
    },
    "r": {
     "delete_cmd_postfix": ") ",
     "delete_cmd_prefix": "rm(",
     "library": "var_list.r",
     "varRefreshCmd": "cat(var_dic_list()) "
    }
   },
   "types_to_exclude": [
    "module",
    "function",
    "builtin_function_or_method",
    "instance",
    "_Feature"
   ],
   "window_display": false
  }
 },
 "nbformat": 4,
 "nbformat_minor": 5
}
